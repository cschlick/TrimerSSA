{
 "cells": [
  {
   "cell_type": "code",
   "execution_count": 1,
   "metadata": {},
   "outputs": [
    {
     "name": "stderr",
     "output_type": "stream",
     "text": [
      "D:\\Nextcloud\\Python\\TrimerSSA\\transformations.py:1911: UserWarning: failed to import module _transformations\n",
      "  warnings.warn(\"failed to import module %s\" % name)\n"
     ]
    }
   ],
   "source": [
    "from Particle import Particle\n",
    "from Trimer import Trimer\n",
    "from Edge import Edge\n",
    "from Vertex import Vertex\n",
    "from Top import Top\n",
    "from Writer import Writer\n",
    "from TrimerGenerator import TrimerGenerator\n",
    "from TrimerTemplate import TrimerTemplate\n",
    "import random\n",
    "import numpy as np\n",
    "%matplotlib inline\n",
    "import pandas as pd"
   ]
  },
  {
   "cell_type": "code",
   "execution_count": 13,
   "metadata": {},
   "outputs": [
    {
     "name": "stdout",
     "output_type": "stream",
     "text": [
      "Prob on: 1000\n",
      "Prob of single bonded trimer removal: 700.0\n",
      "Prob of double bonded trimer removal: 7.0\n"
     ]
    }
   ],
   "source": [
    "reference_edge_length = 84 # used to scale cutoffs\n",
    "\n",
    "type7 = TrimerTemplate(angle=1*np.pi,stem_length=77,template_type=7,weight=1) # 180 degrees, flat hexamer\n",
    "\n",
    "\n",
    "type1 = TrimerTemplate(angle=2.984513,stem_length=71,template_type=1,weight=1) # 171 degrees\n",
    "type2 = TrimerTemplate(angle=2.600541,stem_length=77,template_type=2,weight=1) # 148 degrees\n",
    "type3 = TrimerTemplate(angle=2.600541,stem_length=77,template_type=3,weight=1) # 148 degrees\n",
    "type5 = TrimerTemplate(angle=2.583087,stem_length=77,template_type=5,weight=1) # 149 degrees\n",
    "type6 = TrimerTemplate(angle=2.583087,stem_length=77,template_type=6,weight=1) # 149 degrees\n",
    "type4 = TrimerTemplate(angle=2.984513,stem_length=79,template_type=4,weight=1) # 171 degrees\n",
    "\n",
    "#trimer_generator = TrimerGenerator([type1,type1,type1,type2,type2,type2,type3,type3,type3]) # T=3\n",
    "trimer_generator = TrimerGenerator([type1,type1,type5,type5,type6,type6,type4,type4,type4]) # T=4\n",
    "\n",
    "\n",
    "def seed_T3():\n",
    "    seed_vertex1 = Vertex(np.array([198.829, 170.530, 360.401]))\n",
    "    seed_vertex2 = Vertex(np.array([161.790, 244.135, 376.374]))\n",
    "    seed_vertex3 = Vertex(np.array([124.752, 199.392, 315.765]))\n",
    "\n",
    "\n",
    "\n",
    "    seed_edge1 = Edge([seed_vertex1,seed_vertex2])\n",
    "    seed_edge2 = Edge([seed_vertex2,seed_vertex3])\n",
    "    seed_edge3 = Edge([seed_vertex3,seed_vertex1])\n",
    "    seed_trimer = Trimer([seed_edge1,seed_edge2,seed_edge3])\n",
    "    seed_center = np.array([231.149 , 245.5, 262.1035])\n",
    "    particle = Particle(seed_trimer,reference_edge_length=reference_edge_length,trimer_generator=trimer_generator)\n",
    "    particle.centroid = seed_center\n",
    "    return particle\n",
    "\n",
    "def seed_T4():\n",
    "    seed_vertex1 = Vertex(np.array([363.400, 289.674, 316.566]))\n",
    "    seed_vertex2 = Vertex(np.array([289.698, 317.831, 362.101]))\n",
    "    seed_vertex3 = Vertex(np.array([317.868, 363.369, 288.384]))\n",
    "\n",
    "\n",
    "\n",
    "    seed_edge1 = Edge([seed_vertex1,seed_vertex2])\n",
    "    seed_edge2 = Edge([seed_vertex2,seed_vertex3])\n",
    "    seed_edge3 = Edge([seed_vertex3,seed_vertex1])\n",
    "    seed_trimer = Trimer([seed_edge1,seed_edge2,seed_edge3])\n",
    "    seed_center = np.array([231.149 , 245.5, 262.1035])\n",
    "    particle = Particle(seed_trimer,reference_edge_length=reference_edge_length,trimer_generator=trimer_generator)\n",
    "    particle.centroid = seed_center\n",
    "    return particle\n",
    "\n",
    "\n",
    "#particle = seed_T3()\n",
    "particle = seed_T4()\n",
    "\n",
    "################################################ simulation\n",
    "prob_on = 1000\n",
    "on_off_ratio_remove_single = 1 / 0.7\n",
    "on_off_ratio_remove_double = 1 / 0.007\n",
    "prob_off_single = prob_on * (1 / on_off_ratio_remove_single)\n",
    "prob_off_double = prob_on * (1 / on_off_ratio_remove_double)\n",
    "\n",
    "print(\"Prob on:\",prob_on)\n",
    "print(\"Prob of single bonded trimer removal:\",prob_off_single)\n",
    "print(\"Prob of double bonded trimer removal:\",prob_off_double)\n",
    "\n",
    "\n",
    "# # random add\n",
    "def simulate(steps):\n",
    "    rands_on = np.random.random_integers(0,1000,steps)\n",
    "    rands_off = np.random.random_integers(0,1000,steps)\n",
    "\n",
    "    complete_flag = False\n",
    "    for i,rand_on in enumerate(rands_on):\n",
    "\n",
    "        if particle.complete is False:\n",
    "\n",
    "            if (rand_on <= prob_on):\n",
    "                particle.add()\n",
    "\n",
    "            if (rands_off[i] <= prob_off_single) and (len(particle.open_trimers)>2):\n",
    "                if len(particle.single_bond_trimers)>0:\n",
    "                    removing_trimer= random.choice(particle.single_bond_trimers)\n",
    "                    particle.remove(removing_trimer)\n",
    "\n",
    "            if (rands_off[i] <= prob_off_double)and (len(particle.open_trimers)>2):\n",
    "                if len(particle.double_bond_trimers)>0:\n",
    "                    removing_trimer = random.choice(particle.double_bond_trimers)\n",
    "                    particle.remove(removing_trimer)\n",
    "\n",
    "            particle.increment_timestep()\n",
    "        elif complete_flag is False:\n",
    "            complete_flag = True\n",
    "            print(\"Complete particle\")\n",
    "        else:\n",
    "            pass\n",
    "\n"
   ]
  },
  {
   "cell_type": "code",
   "execution_count": 14,
   "metadata": {},
   "outputs": [
    {
     "name": "stderr",
     "output_type": "stream",
     "text": [
      "C:\\ProgramData\\Anaconda3\\lib\\site-packages\\ipykernel_launcher.py:67: DeprecationWarning: This function is deprecated. Please call randint(0, 1000 + 1) instead\n",
      "C:\\ProgramData\\Anaconda3\\lib\\site-packages\\ipykernel_launcher.py:68: DeprecationWarning: This function is deprecated. Please call randint(0, 1000 + 1) instead\n"
     ]
    }
   ],
   "source": [
    "simulate(5000)"
   ]
  },
  {
   "cell_type": "code",
   "execution_count": 24,
   "metadata": {},
   "outputs": [
    {
     "name": "stdout",
     "output_type": "stream",
     "text": [
      "Particle Summary:\n",
      "\tTimesteps:  5001\n",
      "\tAdd events:  5001\n",
      "\tRemove events: 3502\n",
      "\tTrimers:  29\n",
      "\tEdges:  57\n",
      "\tVerteces:  29\n",
      "\tDebug Verteces:  14\n",
      "\tOpen trimers:  19\n",
      "\tOpen edges:  27\n",
      "\tRejections:  1458\n"
     ]
    }
   ],
   "source": [
    "particle.summarize()\n",
    "name = \"output/particle.pdb\"\n",
    "writer = Writer(name)\n",
    "writer.write_particle(particle)"
   ]
  },
  {
   "cell_type": "code",
   "execution_count": 20,
   "metadata": {},
   "outputs": [],
   "source": [
    "particle.debug_verteces = set()"
   ]
  },
  {
   "cell_type": "code",
   "execution_count": 21,
   "metadata": {},
   "outputs": [],
   "source": [
    "adding_trimer= random.choice(particle.open_trimers)\n"
   ]
  },
  {
   "cell_type": "code",
   "execution_count": 22,
   "metadata": {},
   "outputs": [],
   "source": [
    "exclude_trimers = set()\n",
    "\n",
    "\n",
    "exclude_trimers.add(adding_trimer)\n",
    "\n",
    "# collect all secondary trimers\n",
    "for secondary1 in adding_trimer.secondary_trimers:\n",
    "    for secondary2 in secondary1.secondary_trimers:\n",
    "        for secondary3 in secondary2.secondary_trimers:\n",
    "            for secondary4 in secondary3.secondary_trimers:\n",
    "                for secondary5 in secondary4.secondary_trimers:\n",
    "                    exclude_trimers.add(secondary5)\n",
    "                exclude_trimers.add(secondary4)\n",
    "            exclude_trimers.add(secondary3)\n",
    "        exclude_trimers.add(secondary2)\n",
    "    exclude_trimers.add(secondary1)\n",
    "\n"
   ]
  },
  {
   "cell_type": "code",
   "execution_count": 23,
   "metadata": {},
   "outputs": [],
   "source": [
    "for trimer in exclude_trimers:\n",
    "    dbg = Vertex(trimer.coord)\n",
    "    particle.debug_verteces.add(dbg)\n",
    "\n",
    "for top in adding_trimer.tops:\n",
    "    dbg = Vertex(top.coord)\n",
    "    particle.debug_verteces.add(dbg)"
   ]
  },
  {
   "cell_type": "code",
   "execution_count": 5,
   "metadata": {},
   "outputs": [],
   "source": [
    "s = pd.Series(particle.history,index=range(0,len(particle.history)))"
   ]
  },
  {
   "cell_type": "code",
   "execution_count": 6,
   "metadata": {},
   "outputs": [
    {
     "data": {
      "text/plain": [
       "Text(0,0.5,'Trimers in particle')"
      ]
     },
     "execution_count": 6,
     "metadata": {},
     "output_type": "execute_result"
    },
    {
     "data": {
      "image/png": "[encoded data removed]",
      "text/plain": [
       "<Figure size 432x288 with 1 Axes>"
      ]
     },
     "metadata": {},
     "output_type": "display_data"
    }
   ],
   "source": [
    "ax = s.plot()\n",
    "ax.set_xlabel(\"Timestep\")\n",
    "ax.set_ylabel(\"Trimers in particle\")\n"
   ]
  },
  {
   "cell_type": "code",
   "execution_count": null,
   "metadata": {},
   "outputs": [],
   "source": []
  }
 ],
 "metadata": {
  "kernelspec": {
   "display_name": "Python 3",
   "language": "python",
   "name": "python3"
  },
  "language_info": {
   "codemirror_mode": {
    "name": "ipython",
    "version": 3
   },
   "file_extension": ".py",
   "mimetype": "text/x-python",
   "name": "python",
   "nbconvert_exporter": "python",
   "pygments_lexer": "ipython3",
   "version": "3.6.5"
  }
 },
 "nbformat": 4,
 "nbformat_minor": 2
}
